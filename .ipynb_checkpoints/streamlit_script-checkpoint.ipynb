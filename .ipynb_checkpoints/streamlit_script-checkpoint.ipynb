{
 "cells": [
  {
   "cell_type": "code",
   "execution_count": 2,
   "id": "e7d95bd6",
   "metadata": {},
   "outputs": [
    {
     "name": "stdout",
     "output_type": "stream",
     "text": [
      "Current Working Directory: C:\\Users\\admin\\Documents\\Income_Project_ADS\n",
      "Files in Current Directory: ['.git', '.ipynb_checkpoints', 'analysis.py', 'analysis_script.ipynb', 'best_model2.pkl', 'dataset1.csv', 'requirements.txt', 'streamlit_app.py', 'streamlit_script.ipynb']\n"
     ]
    }
   ],
   "source": [
    "import streamlit as st\n",
    "import pandas as pd\n",
    "import numpy as np\n",
    "import matplotlib.pyplot as plt\n",
    "import seaborn as sns\n",
    "from sklearn.preprocessing import StandardScaler\n",
    "import joblib\n",
    "from sklearn.metrics import mean_squared_error, r2_score\n",
    "import os\n",
    "\n",
    "# Print current working directory and list of files\n",
    "print(\"Current Working Directory:\", os.getcwd())\n",
    "print(\"Files in Current Directory:\", os.listdir())\n",
    "\n",
    "# Suppress the warning related to st.pyplot()\n",
    "st.set_option('deprecation.showPyplotGlobalUse', False)\n",
    "\n",
    "# Load the model\n",
    "model_path = \"best_model2.pkl\"\n",
    "loaded_model = joblib.load(model_path)\n",
    "\n",
    "# Streamlit App\n",
    "st.title(\"Linear Regression Model Explorer\")\n",
    "\n",
    "# Upload CSV data through Streamlit\n",
    "uploaded_file = st.file_uploader(\"Upload a CSV file\", type=[\"csv\"])\n",
    "if uploaded_file is not None:\n",
    "    df = pd.read_csv(uploaded_file)\n",
    "\n",
    "    # Display the first few rows of the DataFrame\n",
    "    st.subheader(\"Dataset Preview\")\n",
    "    st.write(df.head())\n",
    "\n",
    "    # Feature selection and scaling\n",
    "    features = ['employ', 'car', 'carcat', 'age', 'inccat']\n",
    "    df_selected = df[features]\n",
    "    scaler = StandardScaler()\n",
    "    df_scaled = pd.DataFrame(scaler.fit_transform(df_selected), columns=features)\n",
    "\n",
    "    # Prediction using the linear regression model\n",
    "    st.subheader(\"Linear Regression Model Prediction\")\n",
    "\n",
    "    # Make predictions\n",
    "    predictions = loaded_model.predict(df_scaled)\n",
    "    df[\"Predicted Income\"] = predictions\n",
    "    st.write(df[[\"income\", \"Predicted Income\"]])\n",
    "\n",
    "    # Scatter plot of predicted vs. actual income\n",
    "    plt.figure(figsize=(8, 6))\n",
    "    sns.scatterplot(x='income', y='Predicted Income', data=df)\n",
    "    plt.title('Predicted vs. Actual Income')\n",
    "    plt.xlabel('Actual Income')\n",
    "    plt.ylabel('Predicted Income')\n",
    "    st.pyplot()\n",
    "\n",
    "    # Model coefficients visualization\n",
    "    st.subheader(\"Model Coefficients\")\n",
    "    coef_df = pd.DataFrame({'Feature': features, 'Coefficient': loaded_model.coef_})\n",
    "    st.bar_chart(coef_df.set_index('Feature'))\n",
    "\n",
    "    # Evaluation metrics\n",
    "    st.subheader(\"Model Evaluation Metrics\")\n",
    "    y_test = df[\"income\"]\n",
    "    y_pred = loaded_model.predict(df_scaled)\n",
    "    st.write(\"Mean Squared Error:\", mean_squared_error(y_test, y_pred))\n",
    "    st.write(\"R-squared:\", r2_score(y_test, y_pred))"
   ]
  },
  {
   "cell_type": "code",
   "execution_count": null,
   "id": "b3781f9f",
   "metadata": {},
   "outputs": [],
   "source": []
  }
 ],
 "metadata": {
  "kernelspec": {
   "display_name": "Python 3 (ipykernel)",
   "language": "python",
   "name": "python3"
  },
  "language_info": {
   "codemirror_mode": {
    "name": "ipython",
    "version": 3
   },
   "file_extension": ".py",
   "mimetype": "text/x-python",
   "name": "python",
   "nbconvert_exporter": "python",
   "pygments_lexer": "ipython3",
   "version": "3.11.5"
  }
 },
 "nbformat": 4,
 "nbformat_minor": 5
}
